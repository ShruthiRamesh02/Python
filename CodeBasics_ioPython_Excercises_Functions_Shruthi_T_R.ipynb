{
  "nbformat": 4,
  "nbformat_minor": 0,
  "metadata": {
    "colab": {
      "provenance": [],
      "authorship_tag": "ABX9TyPI47SYD6OumFKchT5AkWcv",
      "include_colab_link": true
    },
    "kernelspec": {
      "name": "python3",
      "display_name": "Python 3"
    },
    "language_info": {
      "name": "python"
    }
  },
  "cells": [
    {
      "cell_type": "markdown",
      "metadata": {
        "id": "view-in-github",
        "colab_type": "text"
      },
      "source": [
        "<a href=\"https://colab.research.google.com/github/ShruthiRamesh02/Python/blob/main/CodeBasics_ioPython_Excercises_Functions_Shruthi_T_R.ipynb\" target=\"_parent\"><img src=\"https://colab.research.google.com/assets/colab-badge.svg\" alt=\"Open In Colab\"/></a>"
      ]
    },
    {
      "cell_type": "markdown",
      "source": [
        "1.Write a function called calculate_area that takes base and height as an input and returns and area of a triangle. Equation of an area of a triangle is,\n",
        "area = (1/2)*base*height"
      ],
      "metadata": {
        "id": "EwQI8GxrV1eE"
      }
    },
    {
      "cell_type": "code",
      "source": [
        "def calculate_area(base, height):\n",
        "    area = (1/2) * base * height\n",
        "    return area\n",
        "\n",
        "# Example usage of the function\n",
        "base = 5\n",
        "height = 8\n",
        "triangle_area = calculate_area(base, height)\n",
        "print(f\"The area of the triangle with base {base} and height {height} is {triangle_area}\")"
      ],
      "metadata": {
        "colab": {
          "base_uri": "https://localhost:8080/"
        },
        "id": "hw-hxA8OWAnm",
        "outputId": "07805613-de27-4ef0-9db0-cb1a731248ba"
      },
      "execution_count": 1,
      "outputs": [
        {
          "output_type": "stream",
          "name": "stdout",
          "text": [
            "The area of the triangle with base 5 and height 8 is 20.0\n"
          ]
        }
      ]
    },
    {
      "cell_type": "markdown",
      "source": [
        "2.Modify above function to take third parameter shape type. It can be either \"triangle\" or \"rectangle\". Based on shape type it will calculate area. Equation of rectangle's area is,\n",
        "rectangle area=length*width"
      ],
      "metadata": {
        "id": "wwoS89n-WWW6"
      }
    },
    {
      "cell_type": "code",
      "source": [
        "def calculate_area(shape_type, param1, param2):\n",
        "    if shape_type == \"triangle\":\n",
        "        area = (1/2) * param1 * param2\n",
        "    elif shape_type == \"rectangle\":\n",
        "        area = param1 * param2\n",
        "    else:\n",
        "        area = None\n",
        "        print(\"Invalid shape type. Please use 'triangle' or 'rectangle'.\")\n",
        "\n",
        "    return area\n",
        "\n",
        "triangle_base = 5\n",
        "triangle_height = 8\n",
        "triangle_area = calculate_area(\"triangle\", triangle_base, triangle_height)\n",
        "print(f\"The area of the triangle is {triangle_area}\")\n",
        "\n",
        "rectangle_length = 6\n",
        "rectangle_width = 4\n",
        "rectangle_area = calculate_area(\"rectangle\", rectangle_length, rectangle_width)\n",
        "print(f\"The area of the rectangle is {rectangle_area}\")"
      ],
      "metadata": {
        "colab": {
          "base_uri": "https://localhost:8080/"
        },
        "id": "KzLVAdRXWbQA",
        "outputId": "ac94fa1e-0ad3-41a2-e5fe-160994d35c3f"
      },
      "execution_count": 2,
      "outputs": [
        {
          "output_type": "stream",
          "name": "stdout",
          "text": [
            "The area of the triangle is 20.0\n",
            "The area of the rectangle is 24\n"
          ]
        }
      ]
    },
    {
      "cell_type": "markdown",
      "source": [
        "3.Write a function called print_pattern that takes integer number as an argument and prints following pattern if input number is 3,\n",
        "*\n",
        "**\n",
        "***"
      ],
      "metadata": {
        "id": "HiCunrpKWtG7"
      }
    },
    {
      "cell_type": "code",
      "source": [
        "def print_pattern(n):\n",
        "    for i in range(1, n + 1):\n",
        "        print('*' * i)\n",
        "\n",
        "print_pattern(3)"
      ],
      "metadata": {
        "colab": {
          "base_uri": "https://localhost:8080/"
        },
        "id": "Y_HyKfPnW3O-",
        "outputId": "ebe3700b-116e-4250-acee-19b995fca99d"
      },
      "execution_count": 3,
      "outputs": [
        {
          "output_type": "stream",
          "name": "stdout",
          "text": [
            "*\n",
            "**\n",
            "***\n"
          ]
        }
      ]
    },
    {
      "cell_type": "markdown",
      "source": [
        "4.if input is 4 then it should print\n",
        "\n",
        "*\n",
        "**\n",
        "***\n",
        "****"
      ],
      "metadata": {
        "id": "RzgZn6IkXB86"
      }
    },
    {
      "cell_type": "code",
      "source": [
        "def print_pattern(n):\n",
        "    for i in range(1, n + 1):\n",
        "        print('*' * i)\n",
        "\n",
        "print_pattern(4)"
      ],
      "metadata": {
        "colab": {
          "base_uri": "https://localhost:8080/"
        },
        "id": "OytHn7loXMdh",
        "outputId": "ea046d9f-fd6b-4f6b-d357-cbf47aa6bba2"
      },
      "execution_count": 4,
      "outputs": [
        {
          "output_type": "stream",
          "name": "stdout",
          "text": [
            "*\n",
            "**\n",
            "***\n",
            "****\n"
          ]
        }
      ]
    }
  ]
}