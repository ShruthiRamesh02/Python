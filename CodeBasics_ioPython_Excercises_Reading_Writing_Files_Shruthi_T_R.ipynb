{
  "nbformat": 4,
  "nbformat_minor": 0,
  "metadata": {
    "colab": {
      "provenance": [],
      "authorship_tag": "ABX9TyMUIMi1RzLldcA8OQx+Psyq",
      "include_colab_link": true
    },
    "kernelspec": {
      "name": "python3",
      "display_name": "Python 3"
    },
    "language_info": {
      "name": "python"
    }
  },
  "cells": [
    {
      "cell_type": "markdown",
      "metadata": {
        "id": "view-in-github",
        "colab_type": "text"
      },
      "source": [
        "<a href=\"https://colab.research.google.com/github/ShruthiRamesh02/Python/blob/main/CodeBasics_ioPython_Excercises_Reading_Writing_Files_Shruthi_T_R.ipynb\" target=\"_parent\"><img src=\"https://colab.research.google.com/assets/colab-badge.svg\" alt=\"Open In Colab\"/></a>"
      ]
    },
    {
      "cell_type": "markdown",
      "source": [
        "1.poem.txt contains famous poem \"Road not taken\" by poet Robert Frost. You have to read this file in your python program and find out words with maximum occurance."
      ],
      "metadata": {
        "id": "jJlEDbWj-Yuh"
      }
    },
    {
      "cell_type": "code",
      "source": [
        "# Read the contents of the file and tokenize into words\n",
        "with open('poem.txt', 'r') as file:\n",
        "    text = file.read().lower().split()\n",
        "\n",
        "# Create a dictionary to count word occurrences\n",
        "word_count = {}\n",
        "for word in text:\n",
        "    # Remove punctuation and whitespace\n",
        "    word = word.strip('.,!?()[]{}\"\\'')\n",
        "    if word not in word_count:\n",
        "        word_count[word] = 1\n",
        "    else:\n",
        "        word_count[word] += 1\n",
        "\n",
        "# Find words with maximum occurrence\n",
        "max_count = max(word_count.values())\n",
        "most_common_words = [word for word, count in word_count.items() if count == max_count]\n",
        "\n",
        "print(f\"Words with maximum occurrence ({max_count} times):\")\n",
        "for word in most_common_words:\n",
        "    print(word)\n",
        "\n"
      ],
      "metadata": {
        "colab": {
          "base_uri": "https://localhost:8080/",
          "height": 245
        },
        "id": "o_tMjCtN-hj-",
        "outputId": "6920ccc3-5b21-44f5-cf79-bec917fb467d"
      },
      "execution_count": 5,
      "outputs": [
        {
          "output_type": "error",
          "ename": "FileNotFoundError",
          "evalue": "ignored",
          "traceback": [
            "\u001b[0;31m---------------------------------------------------------------------------\u001b[0m",
            "\u001b[0;31mFileNotFoundError\u001b[0m                         Traceback (most recent call last)",
            "\u001b[0;32m<ipython-input-5-0252977e9e25>\u001b[0m in \u001b[0;36m<cell line: 2>\u001b[0;34m()\u001b[0m\n\u001b[1;32m      1\u001b[0m \u001b[0;31m# Read the contents of the file and tokenize into words\u001b[0m\u001b[0;34m\u001b[0m\u001b[0;34m\u001b[0m\u001b[0m\n\u001b[0;32m----> 2\u001b[0;31m \u001b[0;32mwith\u001b[0m \u001b[0mopen\u001b[0m\u001b[0;34m(\u001b[0m\u001b[0;34m'poem.txt'\u001b[0m\u001b[0;34m,\u001b[0m \u001b[0;34m'r'\u001b[0m\u001b[0;34m)\u001b[0m \u001b[0;32mas\u001b[0m \u001b[0mfile\u001b[0m\u001b[0;34m:\u001b[0m\u001b[0;34m\u001b[0m\u001b[0;34m\u001b[0m\u001b[0m\n\u001b[0m\u001b[1;32m      3\u001b[0m     \u001b[0mtext\u001b[0m \u001b[0;34m=\u001b[0m \u001b[0mfile\u001b[0m\u001b[0;34m.\u001b[0m\u001b[0mread\u001b[0m\u001b[0;34m(\u001b[0m\u001b[0;34m)\u001b[0m\u001b[0;34m.\u001b[0m\u001b[0mlower\u001b[0m\u001b[0;34m(\u001b[0m\u001b[0;34m)\u001b[0m\u001b[0;34m.\u001b[0m\u001b[0msplit\u001b[0m\u001b[0;34m(\u001b[0m\u001b[0;34m)\u001b[0m\u001b[0;34m\u001b[0m\u001b[0;34m\u001b[0m\u001b[0m\n\u001b[1;32m      4\u001b[0m \u001b[0;34m\u001b[0m\u001b[0m\n\u001b[1;32m      5\u001b[0m \u001b[0;31m# Create a dictionary to count word occurrences\u001b[0m\u001b[0;34m\u001b[0m\u001b[0;34m\u001b[0m\u001b[0m\n",
            "\u001b[0;31mFileNotFoundError\u001b[0m: [Errno 2] No such file or directory: 'poem.txt'"
          ]
        }
      ]
    },
    {
      "cell_type": "markdown",
      "source": [
        "2.stocks.csv contains stock price, earnings per share and book value. You are writing a stock market application that will process this file and create a new file with financial metrics such as pe ratio and price to book ratio. These are calculated as,\n",
        "pe ratio = price / earnings per share\n",
        "price to book ratio = price / book value\n",
        "Your input format (stocks.csv) is,\n",
        "\n",
        "Company Name\tPrice\tEarnings Per Share\tBook Value\n",
        "Reliance\t1467\t66\t653\n",
        "Tata Steel\t391\t89\t572"
      ],
      "metadata": {
        "id": "l5lHEYs9-7Jp"
      }
    },
    {
      "cell_type": "code",
      "source": [
        "import csv\n",
        "\n",
        "# Define the input and output file names\n",
        "input_file = 'stocks.csv'\n",
        "output_file = 'financial_metrics.csv'\n",
        "\n",
        "# Create a new CSV file for output\n",
        "with open(output_file, mode='w', newline='') as output_csv:\n",
        "    # Define the CSV writer\n",
        "    writer = csv.writer(output_csv)\n",
        "\n",
        "    # Write the header row for the output file\n",
        "    writer.writerow(['Company Name', 'Price', 'Earnings Per Share', 'Book Value', 'PE Ratio', 'Price to Book Ratio'])\n",
        "\n",
        "    # Read and process the input CSV file\n",
        "    with open(input_file, mode='r') as input_csv:\n",
        "        reader = csv.DictReader(input_csv)\n",
        "        for row in reader:\n",
        "            company_name = row['Company Name']\n",
        "            price = float(row['Price'])\n",
        "            earnings_per_share = float(row['Earnings Per Share'])\n",
        "            book_value = float(row['Book Value'])\n",
        "\n",
        "            # Calculate PE Ratio and Price to Book Ratio\n",
        "            pe_ratio = price / earnings_per_share\n",
        "            price_to_book_ratio = price / book_value\n",
        "\n",
        "            # Write the data to the output CSV file\n",
        "            writer.writerow([company_name, price, earnings_per_share, book_value, pe_ratio, price_to_book_ratio])\n",
        "\n",
        "print(f\"Financial metrics have been calculated and saved to {output_file}.\")\n",
        "\n"
      ],
      "metadata": {
        "colab": {
          "base_uri": "https://localhost:8080/",
          "height": 245
        },
        "id": "3NLZL3ln-9hr",
        "outputId": "17c9a78e-4a27-45f4-ffa8-9e5249a2459e"
      },
      "execution_count": 6,
      "outputs": [
        {
          "output_type": "error",
          "ename": "FileNotFoundError",
          "evalue": "ignored",
          "traceback": [
            "\u001b[0;31m---------------------------------------------------------------------------\u001b[0m",
            "\u001b[0;31mFileNotFoundError\u001b[0m                         Traceback (most recent call last)",
            "\u001b[0;32m<ipython-input-6-76abe57d0e90>\u001b[0m in \u001b[0;36m<cell line: 8>\u001b[0;34m()\u001b[0m\n\u001b[1;32m     14\u001b[0m \u001b[0;34m\u001b[0m\u001b[0m\n\u001b[1;32m     15\u001b[0m     \u001b[0;31m# Read and process the input CSV file\u001b[0m\u001b[0;34m\u001b[0m\u001b[0;34m\u001b[0m\u001b[0m\n\u001b[0;32m---> 16\u001b[0;31m     \u001b[0;32mwith\u001b[0m \u001b[0mopen\u001b[0m\u001b[0;34m(\u001b[0m\u001b[0minput_file\u001b[0m\u001b[0;34m,\u001b[0m \u001b[0mmode\u001b[0m\u001b[0;34m=\u001b[0m\u001b[0;34m'r'\u001b[0m\u001b[0;34m)\u001b[0m \u001b[0;32mas\u001b[0m \u001b[0minput_csv\u001b[0m\u001b[0;34m:\u001b[0m\u001b[0;34m\u001b[0m\u001b[0;34m\u001b[0m\u001b[0m\n\u001b[0m\u001b[1;32m     17\u001b[0m         \u001b[0mreader\u001b[0m \u001b[0;34m=\u001b[0m \u001b[0mcsv\u001b[0m\u001b[0;34m.\u001b[0m\u001b[0mDictReader\u001b[0m\u001b[0;34m(\u001b[0m\u001b[0minput_csv\u001b[0m\u001b[0;34m)\u001b[0m\u001b[0;34m\u001b[0m\u001b[0;34m\u001b[0m\u001b[0m\n\u001b[1;32m     18\u001b[0m         \u001b[0;32mfor\u001b[0m \u001b[0mrow\u001b[0m \u001b[0;32min\u001b[0m \u001b[0mreader\u001b[0m\u001b[0;34m:\u001b[0m\u001b[0;34m\u001b[0m\u001b[0;34m\u001b[0m\u001b[0m\n",
            "\u001b[0;31mFileNotFoundError\u001b[0m: [Errno 2] No such file or directory: 'stocks.csv'"
          ]
        }
      ]
    }
  ]
}