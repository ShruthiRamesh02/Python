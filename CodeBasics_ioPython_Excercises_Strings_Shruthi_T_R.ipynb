{
  "nbformat": 4,
  "nbformat_minor": 0,
  "metadata": {
    "colab": {
      "provenance": [],
      "authorship_tag": "ABX9TyPk/04QZfh13pr0FNfwsBFQ",
      "include_colab_link": true
    },
    "kernelspec": {
      "name": "python3",
      "display_name": "Python 3"
    },
    "language_info": {
      "name": "python"
    }
  },
  "cells": [
    {
      "cell_type": "markdown",
      "metadata": {
        "id": "view-in-github",
        "colab_type": "text"
      },
      "source": [
        "<a href=\"https://colab.research.google.com/github/ShruthiRamesh02/Python/blob/main/CodeBasics_ioPython_Excercises_Strings_Shruthi_T_R.ipynb\" target=\"_parent\"><img src=\"https://colab.research.google.com/assets/colab-badge.svg\" alt=\"Open In Colab\"/></a>"
      ]
    },
    {
      "cell_type": "markdown",
      "source": [
        "1.Create 3 variables to store street, city and country, now create address variable to store entire address. Use two ways of creating this variable, one using + operator and the other using f-string. Now Print the address in such a way that the street, city and country prints in a separate line"
      ],
      "metadata": {
        "id": "d14SYUzzLkoz"
      }
    },
    {
      "cell_type": "code",
      "source": [
        "street = \"Maneeya Ville Main Street\"\n",
        "city = \"Bangkok\"\n",
        "country = \"Thailand\"\n",
        "\n",
        "address_concatenation = street + \"\\n\" + city + \"\\n\" + country\n",
        "print(address_concatenation)"
      ],
      "metadata": {
        "colab": {
          "base_uri": "https://localhost:8080/"
        },
        "id": "iqoQnl2iLnIC",
        "outputId": "20f35e1d-c0b5-45c5-8f8a-e6b9d6a0d775"
      },
      "execution_count": 2,
      "outputs": [
        {
          "output_type": "stream",
          "name": "stdout",
          "text": [
            "Maneeya Ville Main Street\n",
            "Bangkok\n",
            "Thailand\n"
          ]
        }
      ]
    },
    {
      "cell_type": "markdown",
      "source": [
        "2.Create a variable to store the string \"Earth revolves around the sun\"\n",
        "Print \"revolves\" using slice operator\n",
        "Print \"sun\" using negative index"
      ],
      "metadata": {
        "id": "5DMpp1sVMBFy"
      }
    },
    {
      "cell_type": "code",
      "source": [
        "sentence = \"Earth revolves around the sun\"\n",
        "\n",
        "revolves = sentence[6:14]\n",
        "print(revolves)\n",
        "\n",
        "sun = sentence[-3:]\n",
        "print(sun)"
      ],
      "metadata": {
        "colab": {
          "base_uri": "https://localhost:8080/"
        },
        "id": "zMdsmCE5MGDR",
        "outputId": "09d089e4-e0e9-44d8-a236-f0afcdaaebdd"
      },
      "execution_count": 3,
      "outputs": [
        {
          "output_type": "stream",
          "name": "stdout",
          "text": [
            "revolves\n",
            "sun\n"
          ]
        }
      ]
    },
    {
      "cell_type": "markdown",
      "source": [
        "3.Create two variables to store how many fruits and vegetables you eat in a day. Now Print \"I eat x veggies and y fruits daily\" where x and y presents vegetables and fruits that you eat everyday. Use python f string for this."
      ],
      "metadata": {
        "id": "1At88ThXMVxk"
      }
    },
    {
      "cell_type": "code",
      "source": [
        "vegetables_eaten = 3\n",
        "fruits_eaten = 2\n",
        "\n",
        "print(f\"I eat {vegetables_eaten} veggies and {fruits_eaten} fruits daily.\")"
      ],
      "metadata": {
        "colab": {
          "base_uri": "https://localhost:8080/"
        },
        "id": "crcT7Rt6MZuJ",
        "outputId": "986d1395-5089-4a2d-eb39-81e602db6072"
      },
      "execution_count": 4,
      "outputs": [
        {
          "output_type": "stream",
          "name": "stdout",
          "text": [
            "I eat 3 veggies and 2 fruits daily.\n"
          ]
        }
      ]
    },
    {
      "cell_type": "markdown",
      "source": [
        "4.I have a string variable called s='maine 200 banana khaye'. This of course is a wrong statement, the correct statement is 'maine 10 samosa khaye'. Replace incorrect words in original strong with new ones and print the new string. Also try to do this in one line."
      ],
      "metadata": {
        "id": "adJdsmxiMnR1"
      }
    },
    {
      "cell_type": "code",
      "source": [
        "s = 'maine 200 banana khaye'\n",
        "corrected_s = s.replace('200', '10').replace('banana', 'samosa')\n",
        "print(corrected_s)"
      ],
      "metadata": {
        "colab": {
          "base_uri": "https://localhost:8080/"
        },
        "id": "7KAncdyXMta-",
        "outputId": "33d478c0-4169-4292-bd26-8efc39c8157a"
      },
      "execution_count": 5,
      "outputs": [
        {
          "output_type": "stream",
          "name": "stdout",
          "text": [
            "maine 10 samosa khaye\n"
          ]
        }
      ]
    }
  ]
}