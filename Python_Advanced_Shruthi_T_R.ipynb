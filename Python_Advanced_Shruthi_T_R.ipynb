{
  "nbformat": 4,
  "nbformat_minor": 0,
  "metadata": {
    "colab": {
      "provenance": [],
      "authorship_tag": "ABX9TyN5iIaLyZN+yl56icMetf8r",
      "include_colab_link": true
    },
    "kernelspec": {
      "name": "python3",
      "display_name": "Python 3"
    },
    "language_info": {
      "name": "python"
    }
  },
  "cells": [
    {
      "cell_type": "markdown",
      "metadata": {
        "id": "view-in-github",
        "colab_type": "text"
      },
      "source": [
        "<a href=\"https://colab.research.google.com/github/ShruthiRamesh02/Python/blob/main/Python_Advanced_Shruthi_T_R.ipynb\" target=\"_parent\"><img src=\"https://colab.research.google.com/assets/colab-badge.svg\" alt=\"Open In Colab\"/></a>"
      ]
    },
    {
      "cell_type": "markdown",
      "source": [
        "Question 2.Write a Python function check_leap_year that takes a year as input and returns True if the year is a leap year, and False otherwise. A year is a leap year if it is divisible by 4, unless it is divisible by 100. However, if a year is divisible by 100 and also divisible by 400, then it is a leap year"
      ],
      "metadata": {
        "id": "LE5EybwgMiSV"
      }
    },
    {
      "cell_type": "code",
      "source": [
        "def check_leap_year(year):\n",
        "    \"\"\"\n",
        "    Check if a year is a leap year.\n",
        "\n",
        "    Parameters:\n",
        "    year (int): The year to check.\n",
        "\n",
        "    Returns:\n",
        "    bool: True if the year is a leap year, False otherwise.\n",
        "    \"\"\"\n",
        "    if (year % 4 == 0 and year % 100 != 0) or (year % 400 == 0):\n",
        "        return True\n",
        "    else:\n",
        "        return False\n",
        "\n",
        "# Example usage\n",
        "year = 2024\n",
        "is_leap_year = check_leap_year(year)\n",
        "print(f\"Is {year} a leap year? {is_leap_year}\")\n"
      ],
      "metadata": {
        "colab": {
          "base_uri": "https://localhost:8080/"
        },
        "id": "4_D4D-RVMnHr",
        "outputId": "0632f347-93c9-4f87-8855-f34440ce0a77"
      },
      "execution_count": 1,
      "outputs": [
        {
          "output_type": "stream",
          "name": "stdout",
          "text": [
            "Is 2024 a leap year? True\n"
          ]
        }
      ]
    },
    {
      "cell_type": "markdown",
      "source": [
        "3.Write a Python function get_tax that takes a taxable income as input and returns the corresponding tax amount using the following scale:\n",
        "0<=income<= 10,000: No tax\n",
        "\n",
        "10,001<=income<= 50,000: 10% tax\n",
        "\n",
        "50,001<=income<= 100,000: 20% tax\n",
        "\n",
        "income > $100,000: 30% tax"
      ],
      "metadata": {
        "id": "4U-UZXdKNSYP"
      }
    },
    {
      "cell_type": "code",
      "source": [
        "def get_tax(income):\n",
        "    \"\"\"\n",
        "    Calculate the tax amount based on taxable income.\n",
        "\n",
        "    Parameters:\n",
        "    income (float): The taxable income.\n",
        "\n",
        "    Returns:\n",
        "    float: The tax amount.\n",
        "    \"\"\"\n",
        "    if income <= 10000:\n",
        "        return 0.0\n",
        "    elif income <= 50000:\n",
        "        return 0.10 * income\n",
        "    elif income <= 100000:\n",
        "        return 0.20 * income\n",
        "    else:\n",
        "        return 0.30 * income\n",
        "\n",
        "# Example usage\n",
        "income = 50000\n",
        "tax_amount = get_tax(income)\n",
        "print(f\"Tax amount for income {income}: ${tax_amount:.2f}\")"
      ],
      "metadata": {
        "colab": {
          "base_uri": "https://localhost:8080/"
        },
        "id": "TAGEGgazNYev",
        "outputId": "d057ad58-43e3-4c32-c04d-35e87febf49c"
      },
      "execution_count": 2,
      "outputs": [
        {
          "output_type": "stream",
          "name": "stdout",
          "text": [
            "Tax amount for income 50000: $5000.00\n"
          ]
        }
      ]
    },
    {
      "cell_type": "markdown",
      "source": [
        "Question 4.Write a Python function classify_age that takes an age as input and returns a string that describes the age group the person belongs to using the following scale:\n",
        "age <= 12: \"Child\"\n",
        "\n",
        "13 <= age <= 19: \"Teenager\"\n",
        "\n",
        "20 <= age <= 64: \"Adult\"\n",
        "\n",
        "age >= 65: \"Senior\""
      ],
      "metadata": {
        "id": "MRorT15SNqCH"
      }
    },
    {
      "cell_type": "code",
      "source": [
        "def classify_age(age):\n",
        "    \"\"\"\n",
        "    Classify the age into age groups based on the specified scale.\n",
        "\n",
        "    Parameters:\n",
        "    age (int): The age of the person.\n",
        "\n",
        "    Returns:\n",
        "    str: The age group.\n",
        "    \"\"\"\n",
        "    if age <= 12:\n",
        "        return \"Child\"\n",
        "    elif 13 <= age <= 19:\n",
        "        return \"Teenager\"\n",
        "    elif 20 <= age <= 64:\n",
        "        return \"Adult\"\n",
        "    else:\n",
        "        return \"Senior\"\n",
        "\n",
        "# Example usage\n",
        "age = 5\n",
        "age_group = classify_age(age)\n",
        "print(f\"The age group for age {age} is: {age_group}\")"
      ],
      "metadata": {
        "colab": {
          "base_uri": "https://localhost:8080/"
        },
        "id": "aNzY62tYNx0X",
        "outputId": "5f0d42a5-46ec-4d3f-ce1b-6486025867a4"
      },
      "execution_count": 3,
      "outputs": [
        {
          "output_type": "stream",
          "name": "stdout",
          "text": [
            "The age group for age 5 is: Child\n"
          ]
        }
      ]
    },
    {
      "cell_type": "markdown",
      "source": [
        "Question 5.Write a Python function calculate_hypotenuse that takes the length of two sides of a right triangle and returns the length of the hypotenuse, using the Pythagorean theorem:\n",
        "h^2 = a^2 + b^2\n",
        "\n",
        "Where h is the length of the hypotenuse, and a and b are the lengths of the other two sides."
      ],
      "metadata": {
        "id": "TfCmS7dvOF2V"
      }
    },
    {
      "cell_type": "code",
      "source": [
        "import math\n",
        "\n",
        "def calculate_hypotenuse(a, b):\n",
        "    \"\"\"\n",
        "    Calculate the length of the hypotenuse of a right triangle using the Pythagorean theorem.\n",
        "\n",
        "    Parameters:\n",
        "    a (float): Length of one of the sides.\n",
        "    b (float): Length of the other side.\n",
        "\n",
        "    Returns:\n",
        "    float: Length of the hypotenuse.\n",
        "    \"\"\"\n",
        "    hypotenuse = math.sqrt(a**2 + b**2)\n",
        "    return hypotenuse\n",
        "\n",
        "# Example usage\n",
        "a = 3\n",
        "b = 4\n",
        "hypotenuse_length = calculate_hypotenuse(a, b)\n",
        "print(f\"The length of the hypotenuse is: {hypotenuse_length}\")"
      ],
      "metadata": {
        "colab": {
          "base_uri": "https://localhost:8080/"
        },
        "id": "dgjFchgGOOe2",
        "outputId": "e3aff4f4-8d53-458a-c5ec-db719ac9472a"
      },
      "execution_count": 4,
      "outputs": [
        {
          "output_type": "stream",
          "name": "stdout",
          "text": [
            "The length of the hypotenuse is: 5.0\n"
          ]
        }
      ]
    }
  ]
}