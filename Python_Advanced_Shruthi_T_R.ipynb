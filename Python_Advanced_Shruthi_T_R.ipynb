{
  "nbformat": 4,
  "nbformat_minor": 0,
  "metadata": {
    "colab": {
      "provenance": [],
      "authorship_tag": "ABX9TyNAHZtM74/GOxOTrSmVLPqt",
      "include_colab_link": true
    },
    "kernelspec": {
      "name": "python3",
      "display_name": "Python 3"
    },
    "language_info": {
      "name": "python"
    }
  },
  "cells": [
    {
      "cell_type": "markdown",
      "metadata": {
        "id": "view-in-github",
        "colab_type": "text"
      },
      "source": [
        "<a href=\"https://colab.research.google.com/github/ShruthiRamesh02/Python/blob/main/Python_Advanced_Shruthi_T_R.ipynb\" target=\"_parent\"><img src=\"https://colab.research.google.com/assets/colab-badge.svg\" alt=\"Open In Colab\"/></a>"
      ]
    },
    {
      "cell_type": "markdown",
      "source": [
        "Question 1\n",
        "Here, string= \"this is old python course\"\n",
        "\n",
        "1)Please count the number of occurrences of the word \"is\" in a given string?\n",
        "\n",
        "2)How do you modify the word \"old\" with \"new\" in the given string?\n",
        "\n",
        "3)Please find the index of the substring \"python\" within a given string?\n",
        "\n",
        "4)Check if a given string starts with \"this\"?\n",
        "\n",
        "5)Check if a given string consists only of alphanumeric characters (letters and numbers)?\n",
        "\n",
        "6)Please print the sub string \"python course\" removing the characters that match, in the given argument\"this is old\" from the given string?"
      ],
      "metadata": {
        "id": "tR6HRdAxCs5I"
      }
    },
    {
      "cell_type": "code",
      "source": [
        "string = \"this is old python course\"\n",
        "\n",
        "# 1) Count the number of occurrences of the word \"is\" in the string\n",
        "occurrences_of_is = string.count(\"is\")\n",
        "print(\"Occurrences of 'is':\", occurrences_of_is)\n",
        "\n",
        "# 2) Modify the word \"old\" with \"new\" in the string\n",
        "modified_string = string.replace(\"old\", \"new\")\n",
        "print(\"Modified string:\", modified_string)\n",
        "\n",
        "# 3) Find the index of the substring \"python\" in the string\n",
        "index_of_python = string.find(\"python\")\n",
        "print(\"Index of 'python':\", index_of_python)\n",
        "\n",
        "# 4) Check if the string starts with \"this\"\n",
        "starts_with_this = string.startswith(\"this\")\n",
        "print(\"Starts with 'this':\", starts_with_this)\n",
        "\n",
        "# 5) Check if the string consists only of alphanumeric characters\n",
        "is_alphanumeric = string.isalnum()\n",
        "print(\"Is alphanumeric:\", is_alphanumeric)\n",
        "\n",
        "# 6) Print the sub string \"python course\" removing the characters that match \"this is old\"\n",
        "substring = string.replace(\"this is old\", \"\")\n",
        "print(\"Substring 'python course':\", substring)"
      ],
      "metadata": {
        "colab": {
          "base_uri": "https://localhost:8080/"
        },
        "id": "wUQ6oBs5C0p9",
        "outputId": "cf5526d2-73d9-478c-d1c7-6d85c5004cab"
      },
      "execution_count": 1,
      "outputs": [
        {
          "output_type": "stream",
          "name": "stdout",
          "text": [
            "Occurrences of 'is': 2\n",
            "Modified string: this is new python course\n",
            "Index of 'python': 12\n",
            "Starts with 'this': True\n",
            "Is alphanumeric: False\n",
            "Substring 'python course':  python course\n"
          ]
        }
      ]
    },
    {
      "cell_type": "markdown",
      "source": [
        "2.x = int(input())\n",
        "y = int(input())\n",
        "z = int(input())\n",
        "\n",
        "#Block-1 Start\n",
        "\n",
        "if x > 0 or y> 0 or z > 0:\n",
        "    if (x > 0 and y> 0) or (y> 0 and z> 0) or (z> 0 and x > 0):\n",
        "        if x > 0 and y> 0 and z > 0:\n",
        "            print('P3')\n",
        "        else:\n",
        "            print('P2')\n",
        "    else:\n",
        "        print('P1')\n",
        "\n",
        "#Block-1 End\n",
        "\n",
        "\n",
        "# Block-2 Start\n",
        "\n",
        "if x <0 or y<0 or z < 0:\n",
        "    if (x < 0 and y< 0) or (y< 0 and z< 0) or (z< 0 and x < 0):\n",
        "            if x < 0 and y< 0 and z < 0:\n",
        "                print('N3')\n",
        "            else:\n",
        "                print('N2')\n",
        "    else:\n",
        "        print('N1')\n",
        "\n",
        "\n",
        "#Block-2 End\n",
        "What is the output of the above code?\n",
        "x= -1\n",
        "y= 4\n",
        "z= 1\n"
      ],
      "metadata": {
        "id": "-9sOERnODVL0"
      }
    },
    {
      "cell_type": "markdown",
      "source": [
        "P3"
      ],
      "metadata": {
        "id": "YNmTEv1IDsf0"
      }
    },
    {
      "cell_type": "markdown",
      "source": [
        "Question 3.s='abcdefghijklmnopqrstuvwxyz'\n",
        "\n",
        "a = int(input())\n",
        "\n",
        "b= int(input())\n",
        "\n",
        "c= int(input())\n",
        "\n",
        "d = int(input())\n",
        "\n",
        "e = int(input())\n",
        "\n",
        "print(s[-a:-len(s):-3])\n",
        "\n",
        "print (s[::-b])\n",
        "\n",
        "print (s[c:0:-3])\n",
        "\n",
        "print (s[len(s): - d:-3])\n",
        "\n",
        "print (s[:e:-3])\n",
        "Consider that the string s='abcdefghijklmnopqrstuvwxyz'\n",
        "For what user input of a, b, c, d and e (where 0 <= a,b,c,d,e< len(s) ) does the above code-snippet print following output?\n",
        "It is a Numerical Answer Type (NAT) question. Enter your input value separated by, without any space like: 7,15,0,4,0\n",
        "\n",
        "zwtqnkheb\n",
        "\n",
        "zwtqnkheb\n",
        "\n",
        "zwtqnkheb\n",
        "\n",
        "zwtqnkheb\n",
        "\n",
        "zwtqnkheb\n",
        "\n"
      ],
      "metadata": {
        "id": "LmoIIKBrDuOL"
      }
    },
    {
      "cell_type": "markdown",
      "source": [
        "s[-a:-len(s):-3] should print 'zwtqnkheb':\n",
        "\n",
        "To get 'zwtqnkheb', we need to start at 'z' and step backward by 3: 'zwtqnkheb'.\n",
        "Therefore, a = 1.\n",
        "s[::-b] should print 'zwtqnkheb':\n",
        "\n",
        "To get 'zwtqnkheb', we need to reverse the string: 'zyxwvutsrqponmlkjihgfedcba'.\n",
        "Therefore, b = 1.\n",
        "s[c:0:-3] should print 'zwtqnkheb':\n",
        "\n",
        "To get 'zwtqnkheb', we need to start at 'z' and step backward by 3: 'zwtqnkheb'.\n",
        "Therefore, c = 1.\n",
        "s[len(s): - d:-3] should print 'zwtqnkheb':\n",
        "\n",
        "To get 'zwtqnkheb', we need to start at 'z' and step backward by 3: 'zwtqnkheb'.\n",
        "Therefore, d = 1.\n",
        "s[:e:-3] should print 'zwtqnkheb':\n",
        "\n",
        "To get 'zwtqnkheb', we need to start at 'z' and step backward by 3: 'zwtqnkheb'.\n",
        "Therefore, e = 1.\n",
        "So, the values of a, b, c, d, and e that give the specified output are: 1, 1, 1, 1, 1."
      ],
      "metadata": {
        "id": "RwOQZ2wmEMFG"
      }
    },
    {
      "cell_type": "markdown",
      "source": [
        "Question 4.s = \"abcd(efgh(ijkl}{{}))\"\n",
        "match= False\n",
        "if s.count('(') == s.count(')'):\n",
        "    if s.count('{') == s.count('}'):\n",
        "        if s.count('[') == s.count(']'):\n",
        "            match = True\n",
        "print(match)\n",
        "If s = \"abcd(efgh(ijkl}{{}))\" what will be the value of match at the end of execution and justification?\n",
        "\n",
        "False, the number of opening and closing brackets are only considered\n",
        "False, the position of opening and closing brackets are not considered.\n",
        "True, the number of opening and closing brackets are only considered\n",
        "True, the number and position of opening and closing brackets are considered.\n",
        "\n"
      ],
      "metadata": {
        "id": "hQj9--L0EQAL"
      }
    },
    {
      "cell_type": "markdown",
      "source": [
        "s.count('(') == s.count(')') checks if the number of opening parentheses is equal to the number of closing parentheses, which is true in this case.\n",
        "s.count('{') == s.count('}') checks if the number of opening curly braces is equal to the number of closing curly braces, which is also true in this case.\n",
        "s.count('[') == s.count(']') checks if the number of opening square brackets is equal to the number of closing square brackets. Although there are no square brackets in the given string, this condition is also true since both counts are zero."
      ],
      "metadata": {
        "id": "kahiK8k4EjES"
      }
    },
    {
      "cell_type": "markdown",
      "source": [
        "Question 5\n",
        "Accept a sentence as input and find the number of words in it. Assume that the sentence has no punctuation marks\n",
        "Example:\n",
        "\n",
        "what a shot - 3 words\n",
        "\n",
        "this is a chair - 4 words"
      ],
      "metadata": {
        "id": "Y3SaZc-lEkXt"
      }
    },
    {
      "cell_type": "code",
      "source": [
        "def count_words(sentence):\n",
        "    # Split the sentence into words based on spaces\n",
        "    words = sentence.split()\n",
        "    # Count the number of words\n",
        "    return len(words)\n",
        "\n",
        "# Accept a sentence as input\n",
        "sentence = input(\"Enter a sentence: \")\n",
        "\n",
        "# Count the number of words in the sentence\n",
        "word_count = count_words(sentence)\n",
        "\n",
        "# Print the result\n",
        "print(f'The sentence \"{sentence}\" has {word_count} words.')"
      ],
      "metadata": {
        "colab": {
          "base_uri": "https://localhost:8080/"
        },
        "id": "wLV4lp-NEXbY",
        "outputId": "d03d0d40-36e7-44f7-d0ff-0b8c39f52087"
      },
      "execution_count": 4,
      "outputs": [
        {
          "output_type": "stream",
          "name": "stdout",
          "text": [
            "Enter a sentence: my name is shruthi\n",
            "The sentence \"my name is shruthi\" has 4 words.\n"
          ]
        }
      ]
    },
    {
      "cell_type": "markdown",
      "source": [
        "Question 6.A three digit number is called a sandwich number if the difference between its first and last digit is equal to its middle digit. Accept a three digit number as input and print “sandwich” if the number is a sandwich number. Print “plain” if the number is not a sandwich number. For example, 123 and 853 are sandwich numbers.\n",
        "\n",
        "Input:123"
      ],
      "metadata": {
        "id": "W8N19pQcFBUY"
      }
    },
    {
      "cell_type": "code",
      "source": [
        "def is_sandwich_number(number):\n",
        "    # Extract digits\n",
        "    first_digit = number // 100\n",
        "    last_digit = number % 10\n",
        "    middle_digit = (number // 10) % 10\n",
        "\n",
        "    # Check if it's a sandwich number\n",
        "    return abs(first_digit - last_digit) == middle_digit\n",
        "\n",
        "# Accept a three-digit number as input\n",
        "number = int(input(\"Enter a three-digit number: \"))\n",
        "\n",
        "# Check if it's a sandwich number\n",
        "if is_sandwich_number(number):\n",
        "    print(\"sandwich\")\n",
        "else:\n",
        "    print(\"plain\")"
      ],
      "metadata": {
        "colab": {
          "base_uri": "https://localhost:8080/"
        },
        "id": "qANpIyVVFITa",
        "outputId": "946acc5d-1eda-4b5e-887e-cb6f8f28e84e"
      },
      "execution_count": 5,
      "outputs": [
        {
          "output_type": "stream",
          "name": "stdout",
          "text": [
            "Enter a three-digit number: 100\n",
            "plain\n"
          ]
        }
      ]
    },
    {
      "cell_type": "markdown",
      "source": [
        "Question 7.You are a forum admin. You wish to find out the total score of each user using the scoring logic given below. If the user scores more than 50, then the user is given a Leader badge, otherwise a Basic badge is given.\n",
        "\n",
        "\n",
        "\n",
        "Implement the body of the function user_score. The function accepts 3 integer arguments- read_count, reply_count, new_post_count. It calculates the score based on the input counts and returns Leader or Basic.\n",
        "\n",
        ""
      ],
      "metadata": {
        "id": "m6QEow-2Faxk"
      }
    },
    {
      "cell_type": "code",
      "source": [
        "def user_score(read_count, reply_count, new_post_count):\n",
        "    # Calculate the total score\n",
        "    total_score = read_count * 1 + reply_count * 3 + new_post_count * 5\n",
        "\n",
        "    # Determine the badge based on the total score\n",
        "    if total_score > 50:\n",
        "        return \"Leader\"\n",
        "    else:\n",
        "        return \"Basic\"\n",
        "\n",
        "# Example usage\n",
        "read_count = 10\n",
        "reply_count = 5\n",
        "new_post_count = 3\n",
        "\n",
        "badge = user_score(read_count, reply_count, new_post_count)\n",
        "print(\"Badge:\", badge)"
      ],
      "metadata": {
        "colab": {
          "base_uri": "https://localhost:8080/"
        },
        "id": "IsZZlEQcFiFB",
        "outputId": "87c2466a-01f7-4792-fcaa-22d97d710298"
      },
      "execution_count": 6,
      "outputs": [
        {
          "output_type": "stream",
          "name": "stdout",
          "text": [
            "Badge: Basic\n"
          ]
        }
      ]
    },
    {
      "cell_type": "code",
      "source": [],
      "metadata": {
        "id": "vUnj9V2LDZH4"
      },
      "execution_count": 3,
      "outputs": []
    }
  ]
}