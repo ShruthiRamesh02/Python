{
  "nbformat": 4,
  "nbformat_minor": 0,
  "metadata": {
    "colab": {
      "provenance": [],
      "authorship_tag": "ABX9TyO9bvoD096IyNei+CDhwo87",
      "include_colab_link": true
    },
    "kernelspec": {
      "name": "python3",
      "display_name": "Python 3"
    },
    "language_info": {
      "name": "python"
    }
  },
  "cells": [
    {
      "cell_type": "markdown",
      "metadata": {
        "id": "view-in-github",
        "colab_type": "text"
      },
      "source": [
        "<a href=\"https://colab.research.google.com/github/ShruthiRamesh02/Python/blob/main/CodeBasics_ioPython_Excercises_Dictionaries_and_Tuples_Shruthi_T_R.ipynb\" target=\"_parent\"><img src=\"https://colab.research.google.com/assets/colab-badge.svg\" alt=\"Open In Colab\"/></a>"
      ]
    },
    {
      "cell_type": "markdown",
      "source": [
        "1.We have following information on countries and their population (population is in crores),\n",
        "\n",
        "Country\tPopulation\n",
        "China\t143\n",
        "India\t136\n",
        "USA\t32\n",
        "Pakistan\t21\n",
        "Using above create a dictionary of countries and its population\n",
        "Write a program that asks user for three type of inputs,\n",
        "print: if user enter print then it should print all countries with their population in this format,\n",
        "china==>143\n",
        "india==>136\n",
        "usa==>32\n",
        "pakistan==>21\n",
        "add: if user input add then it should further ask for a country name to add. If country already exist in our dataset then it should print that it exist and do nothing. If it doesn't then it asks for population and add that new country/population in our dictionary and print it\n",
        "remove: when user inputs remove it should ask for a country to remove. If country exist in our dictionary then remove it and print new dictionary using format shown above in (a). Else print that country doesn't exist!\n",
        "query: on this again ask user for which country he or she wants to query. When user inputs that country it will print population of that country."
      ],
      "metadata": {
        "id": "_Sv0CaPk7U2S"
      }
    },
    {
      "cell_type": "code",
      "source": [
        "# Create a dictionary of countries and their populations\n",
        "country_population = {\n",
        "    \"China\": 143,\n",
        "    \"India\": 136,\n",
        "    \"USA\": 32,\n",
        "    \"Pakistan\": 21,\n",
        "}\n",
        "\n",
        "while True:\n",
        "    # Ask the user for input\n",
        "    user_input = input(\"Enter 'print', 'add', 'remove', 'query', or 'exit': \").lower()\n",
        "\n",
        "    if user_input == \"exit\":\n",
        "        print(\"Exiting the program.\")\n",
        "        break\n",
        "\n",
        "    if user_input == \"print\":\n",
        "        # Print all countries and their populations\n",
        "        for country, population in country_population.items():\n",
        "            print(f\"{country.lower()} ==> {population}\")\n",
        "\n",
        "    elif user_input == \"add\":\n",
        "        # Ask for a country to add\n",
        "        new_country = input(\"Enter the name of the country to add: \").capitalize()\n",
        "\n",
        "        # Check if the country already exists\n",
        "        if new_country in country_population:\n",
        "            print(f\"{new_country} already exists in the dataset.\")\n",
        "        else:\n",
        "            # Ask for the population and add the new entry\n",
        "            new_population = int(input(f\"Enter the population of {new_country}: \"))\n",
        "            country_population[new_country] = new_population\n",
        "            print(f\"{new_country} has been added to the dataset.\")\n",
        "\n",
        "    elif user_input == \"remove\":\n",
        "        # Ask for a country to remove\n",
        "        remove_country = input(\"Enter the name of the country to remove: \").capitalize()\n",
        "\n",
        "        # Check if the country exists\n",
        "        if remove_country in country_population:\n",
        "            # Remove the country\n",
        "            del country_population[remove_country]\n",
        "            print(f\"{remove_country} has been removed from the dataset.\")\n",
        "        else:\n",
        "            print(f\"{remove_country} doesn't exist in the dataset.\")\n",
        "\n",
        "    elif user_input == \"query\":\n",
        "        # Ask for a country to query\n",
        "        query_country = input(\"Enter the name of the country to query: \").capitalize()\n",
        "\n",
        "        # Check if the country exists\n",
        "        if query_country in country_population:\n",
        "            print(f\"The population of {query_country} is {country_population[query_country]}.\")\n",
        "        else:\n",
        "            print(f\"{query_country} doesn't exist in the dataset.\")\n",
        "\n",
        "    else:\n",
        "        print(\"Invalid input. Please enter 'print', 'add', 'remove', 'query', or 'exit'.\")\n"
      ],
      "metadata": {
        "colab": {
          "base_uri": "https://localhost:8080/",
          "height": 442
        },
        "id": "ME_eD_P57oRC",
        "outputId": "35a09fbe-9c36-4d62-a077-92dc3cc02251"
      },
      "execution_count": 3,
      "outputs": [
        {
          "output_type": "stream",
          "name": "stdout",
          "text": [
            "Enter 'print', 'add', 'remove', 'query', or 'exit': remove\n",
            "Enter the name of the country to remove: pakistan\n",
            "Pakistan has been removed from the dataset.\n"
          ]
        },
        {
          "output_type": "error",
          "ename": "KeyboardInterrupt",
          "evalue": "ignored",
          "traceback": [
            "\u001b[0;31m---------------------------------------------------------------------------\u001b[0m",
            "\u001b[0;31mKeyboardInterrupt\u001b[0m                         Traceback (most recent call last)",
            "\u001b[0;32m<ipython-input-3-fcef7179a626>\u001b[0m in \u001b[0;36m<cell line: 9>\u001b[0;34m()\u001b[0m\n\u001b[1;32m      9\u001b[0m \u001b[0;32mwhile\u001b[0m \u001b[0;32mTrue\u001b[0m\u001b[0;34m:\u001b[0m\u001b[0;34m\u001b[0m\u001b[0;34m\u001b[0m\u001b[0m\n\u001b[1;32m     10\u001b[0m     \u001b[0;31m# Ask the user for input\u001b[0m\u001b[0;34m\u001b[0m\u001b[0;34m\u001b[0m\u001b[0m\n\u001b[0;32m---> 11\u001b[0;31m     \u001b[0muser_input\u001b[0m \u001b[0;34m=\u001b[0m \u001b[0minput\u001b[0m\u001b[0;34m(\u001b[0m\u001b[0;34m\"Enter 'print', 'add', 'remove', 'query', or 'exit': \"\u001b[0m\u001b[0;34m)\u001b[0m\u001b[0;34m.\u001b[0m\u001b[0mlower\u001b[0m\u001b[0;34m(\u001b[0m\u001b[0;34m)\u001b[0m\u001b[0;34m\u001b[0m\u001b[0;34m\u001b[0m\u001b[0m\n\u001b[0m\u001b[1;32m     12\u001b[0m \u001b[0;34m\u001b[0m\u001b[0m\n\u001b[1;32m     13\u001b[0m     \u001b[0;32mif\u001b[0m \u001b[0muser_input\u001b[0m \u001b[0;34m==\u001b[0m \u001b[0;34m\"exit\"\u001b[0m\u001b[0;34m:\u001b[0m\u001b[0;34m\u001b[0m\u001b[0;34m\u001b[0m\u001b[0m\n",
            "\u001b[0;32m/usr/local/lib/python3.10/dist-packages/ipykernel/kernelbase.py\u001b[0m in \u001b[0;36mraw_input\u001b[0;34m(self, prompt)\u001b[0m\n\u001b[1;32m    849\u001b[0m                 \u001b[0;34m\"raw_input was called, but this frontend does not support input requests.\"\u001b[0m\u001b[0;34m\u001b[0m\u001b[0;34m\u001b[0m\u001b[0m\n\u001b[1;32m    850\u001b[0m             )\n\u001b[0;32m--> 851\u001b[0;31m         return self._input_request(str(prompt),\n\u001b[0m\u001b[1;32m    852\u001b[0m             \u001b[0mself\u001b[0m\u001b[0;34m.\u001b[0m\u001b[0m_parent_ident\u001b[0m\u001b[0;34m,\u001b[0m\u001b[0;34m\u001b[0m\u001b[0;34m\u001b[0m\u001b[0m\n\u001b[1;32m    853\u001b[0m             \u001b[0mself\u001b[0m\u001b[0;34m.\u001b[0m\u001b[0m_parent_header\u001b[0m\u001b[0;34m,\u001b[0m\u001b[0;34m\u001b[0m\u001b[0;34m\u001b[0m\u001b[0m\n",
            "\u001b[0;32m/usr/local/lib/python3.10/dist-packages/ipykernel/kernelbase.py\u001b[0m in \u001b[0;36m_input_request\u001b[0;34m(self, prompt, ident, parent, password)\u001b[0m\n\u001b[1;32m    893\u001b[0m             \u001b[0;32mexcept\u001b[0m \u001b[0mKeyboardInterrupt\u001b[0m\u001b[0;34m:\u001b[0m\u001b[0;34m\u001b[0m\u001b[0;34m\u001b[0m\u001b[0m\n\u001b[1;32m    894\u001b[0m                 \u001b[0;31m# re-raise KeyboardInterrupt, to truncate traceback\u001b[0m\u001b[0;34m\u001b[0m\u001b[0;34m\u001b[0m\u001b[0m\n\u001b[0;32m--> 895\u001b[0;31m                 \u001b[0;32mraise\u001b[0m \u001b[0mKeyboardInterrupt\u001b[0m\u001b[0;34m(\u001b[0m\u001b[0;34m\"Interrupted by user\"\u001b[0m\u001b[0;34m)\u001b[0m \u001b[0;32mfrom\u001b[0m \u001b[0;32mNone\u001b[0m\u001b[0;34m\u001b[0m\u001b[0;34m\u001b[0m\u001b[0m\n\u001b[0m\u001b[1;32m    896\u001b[0m             \u001b[0;32mexcept\u001b[0m \u001b[0mException\u001b[0m \u001b[0;32mas\u001b[0m \u001b[0me\u001b[0m\u001b[0;34m:\u001b[0m\u001b[0;34m\u001b[0m\u001b[0;34m\u001b[0m\u001b[0m\n\u001b[1;32m    897\u001b[0m                 \u001b[0mself\u001b[0m\u001b[0;34m.\u001b[0m\u001b[0mlog\u001b[0m\u001b[0;34m.\u001b[0m\u001b[0mwarning\u001b[0m\u001b[0;34m(\u001b[0m\u001b[0;34m\"Invalid Message:\"\u001b[0m\u001b[0;34m,\u001b[0m \u001b[0mexc_info\u001b[0m\u001b[0;34m=\u001b[0m\u001b[0;32mTrue\u001b[0m\u001b[0;34m)\u001b[0m\u001b[0;34m\u001b[0m\u001b[0;34m\u001b[0m\u001b[0m\n",
            "\u001b[0;31mKeyboardInterrupt\u001b[0m: Interrupted by user"
          ]
        }
      ]
    },
    {
      "cell_type": "markdown",
      "source": [
        "2.You are given following list of stocks and their prices in last 3 days,\n",
        "\n",
        "Stock\tPrices\n",
        "info\t[600,630,620]\n",
        "ril\t[1430,1490,1567]\n",
        "mtl\t[234,180,160]\n",
        "Write a program that asks user for operation. Value of operations could be,\n",
        "print: When user enters print it should print following,\n",
        "info ==> [600, 630, 620] ==> avg:  616.67\n",
        "ril ==> [1430, 1490, 1567] ==> avg:  1495.67\n",
        "mtl ==> [234, 180, 160] ==> avg:  191.33\n",
        "add: When user enters 'add', it asks for stock ticker and price. If stock already exist in your list (like info, ril etc) then it will append the price to the list. Otherwise it will create new entry in your dictionary. For example entering 'tata' and 560 will add tata ==> [560] to the dictionary of stocks."
      ],
      "metadata": {
        "id": "cb-j-rFB8XeM"
      }
    },
    {
      "cell_type": "code",
      "source": [
        "# Create a dictionary of stocks and their prices\n",
        "stock_prices = {\n",
        "    \"info\": [600, 630, 620],\n",
        "    \"ril\": [1430, 1490, 1567],\n",
        "    \"mtl\": [234, 180, 160],\n",
        "}\n",
        "\n",
        "while True:\n",
        "    # Ask the user for input\n",
        "    user_input = input(\"Enter 'print', 'add', or 'exit': \").lower()\n",
        "\n",
        "    if user_input == \"exit\":\n",
        "        print(\"Exiting the program.\")\n",
        "        break\n",
        "\n",
        "    if user_input == \"print\":\n",
        "        # Print all stocks, their prices, and average prices\n",
        "        for stock, prices in stock_prices.items():\n",
        "            avg_price = sum(prices) / len(prices)\n",
        "            print(f\"{stock} ==> {prices} ==> avg: {avg_price:.2f}\")\n",
        "\n",
        "    elif user_input == \"add\":\n",
        "        # Ask for a stock ticker and price\n",
        "        stock_ticker = input(\"Enter the stock ticker: \")\n",
        "        price = float(input(f\"Enter the price for {stock_ticker}: \"))\n",
        "\n",
        "        # Check if the stock already exists\n",
        "        if stock_ticker in stock_prices:\n",
        "            stock_prices[stock_ticker].append(price)\n",
        "        else:\n",
        "            stock_prices[stock_ticker] = [price]\n",
        "\n",
        "        print(f\"{stock_ticker} ==> {stock_prices[stock_ticker]} has been updated.\")\n",
        "\n",
        "    else:\n",
        "        print(\"Invalid input. Please enter 'print', 'add', or 'exit'.\")"
      ],
      "metadata": {
        "colab": {
          "base_uri": "https://localhost:8080/"
        },
        "id": "-O5U9SwL8gWO",
        "outputId": "4f659400-b3b2-4aca-dfba-ea53a3e446f0"
      },
      "execution_count": 7,
      "outputs": [
        {
          "output_type": "stream",
          "name": "stdout",
          "text": [
            "Enter 'print', 'add', or 'exit': add\n",
            "Enter the stock ticker: india\n",
            "Enter the price for india: 600\n",
            "india ==> [600.0] has been updated.\n",
            "Enter 'print', 'add', or 'exit': exit\n",
            "Exiting the program.\n"
          ]
        }
      ]
    },
    {
      "cell_type": "markdown",
      "source": [
        "3.Write circle_calc() function that takes radius of a circle as an input from user and then it calculates and returns area, circumference and diameter. You should get these values in your main program by calling circle_calc function and then print them"
      ],
      "metadata": {
        "id": "esoVnsjo9NFk"
      }
    },
    {
      "cell_type": "code",
      "source": [
        "import math\n",
        "\n",
        "def circle_calc(radius):\n",
        "    # Calculate the area, circumference, and diameter\n",
        "    area = math.pi * radius ** 2\n",
        "    circumference = 2 * math.pi * radius\n",
        "    diameter = 2 * radius\n",
        "\n",
        "    return area, circumference, diameter\n",
        "\n",
        "# Main program\n",
        "try:\n",
        "    # Ask the user for the radius of the circle\n",
        "    radius = float(input(\"Enter the radius of the circle: \"))\n",
        "\n",
        "    # Call the circle_calc function to calculate the values\n",
        "    area, circumference, diameter = circle_calc(radius)\n",
        "\n",
        "    # Print the results\n",
        "    print(f\"Area of the circle: {area:.2f}\")\n",
        "    print(f\"Circumference of the circle: {circumference:.2f}\")\n",
        "    print(f\"Diameter of the circle: {diameter:.2f}\")\n",
        "\n",
        "except ValueError:\n",
        "    print(\"Invalid input. Please enter a valid number for the radius.\")"
      ],
      "metadata": {
        "colab": {
          "base_uri": "https://localhost:8080/"
        },
        "id": "bEtio-i99Tkz",
        "outputId": "8614c851-2948-4397-ec72-2894b7b87522"
      },
      "execution_count": 9,
      "outputs": [
        {
          "output_type": "stream",
          "name": "stdout",
          "text": [
            "Enter the radius of the circle: 2\n",
            "Area of the circle: 12.57\n",
            "Circumference of the circle: 12.57\n",
            "Diameter of the circle: 4.00\n"
          ]
        }
      ]
    },
    {
      "cell_type": "markdown",
      "source": [],
      "metadata": {
        "id": "YgGfnPrA8PU-"
      }
    }
  ]
}