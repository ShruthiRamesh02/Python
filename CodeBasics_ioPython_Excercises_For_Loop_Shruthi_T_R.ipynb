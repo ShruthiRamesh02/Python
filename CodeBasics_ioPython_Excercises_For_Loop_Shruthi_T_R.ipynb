{
  "nbformat": 4,
  "nbformat_minor": 0,
  "metadata": {
    "colab": {
      "provenance": [],
      "authorship_tag": "ABX9TyNcMuEC4XLBqgrDCE00Qe5X",
      "include_colab_link": true
    },
    "kernelspec": {
      "name": "python3",
      "display_name": "Python 3"
    },
    "language_info": {
      "name": "python"
    }
  },
  "cells": [
    {
      "cell_type": "markdown",
      "metadata": {
        "id": "view-in-github",
        "colab_type": "text"
      },
      "source": [
        "<a href=\"https://colab.research.google.com/github/ShruthiRamesh02/Python/blob/main/CodeBasics_ioPython_Excercises_For_Loop_Shruthi_T_R.ipynb\" target=\"_parent\"><img src=\"https://colab.research.google.com/assets/colab-badge.svg\" alt=\"Open In Colab\"/></a>"
      ]
    },
    {
      "cell_type": "markdown",
      "source": [
        "1.After flipping a coin 10 times you got this result"
      ],
      "metadata": {
        "id": "DWRigZuZS7Eo"
      }
    },
    {
      "cell_type": "code",
      "source": [
        "[\"heads\", \"tails\", \"tails\", \"heads\", \"tails\", \"heads\", \"heads\", \"tails\", \"tails\", \"tails\"]"
      ],
      "metadata": {
        "colab": {
          "base_uri": "https://localhost:8080/"
        },
        "id": "sttgHEJ-TCLg",
        "outputId": "697e259f-fedf-4e69-9038-32345b4f6133"
      },
      "execution_count": 1,
      "outputs": [
        {
          "output_type": "execute_result",
          "data": {
            "text/plain": [
              "['heads',\n",
              " 'tails',\n",
              " 'tails',\n",
              " 'heads',\n",
              " 'tails',\n",
              " 'heads',\n",
              " 'heads',\n",
              " 'tails',\n",
              " 'tails',\n",
              " 'tails']"
            ]
          },
          "metadata": {},
          "execution_count": 1
        }
      ]
    },
    {
      "cell_type": "markdown",
      "source": [
        "2.Using for loop figure out how many times you got heads\n",
        "\n",
        "Print square of all numbers between 1 to 10 except even numbers\n",
        "Your monthly expense list (from Jan to May) looks like this,"
      ],
      "metadata": {
        "id": "CIMXwwk2TcSL"
      }
    },
    {
      "cell_type": "code",
      "source": [
        "for num in range(1, 11):\n",
        "    if num % 2 != 0:\n",
        "        print(num ** 2)"
      ],
      "metadata": {
        "colab": {
          "base_uri": "https://localhost:8080/"
        },
        "id": "9sdrXxNKTbxH",
        "outputId": "a5d7a301-659f-4daf-eeb4-e27a1c4179f4"
      },
      "execution_count": 2,
      "outputs": [
        {
          "output_type": "stream",
          "name": "stdout",
          "text": [
            "1\n",
            "9\n",
            "25\n",
            "49\n",
            "81\n"
          ]
        }
      ]
    },
    {
      "cell_type": "markdown",
      "source": [
        "3.Write a program that asks you to enter an expense amount and program should tell you in which month that expense occurred. If expense is not found then it should print that as well."
      ],
      "metadata": {
        "id": "79LrGEa9Tw2c"
      }
    },
    {
      "cell_type": "code",
      "source": [
        "expenses = {\n",
        "    2200: \"January\",\n",
        "    2350: \"February\",\n",
        "    2600: \"March\",\n",
        "    2130: \"April\",\n",
        "    2190: \"May\",\n",
        "}\n",
        "\n",
        "expense_amount = int(input(\"Enter an expense amount: \"))\n",
        "\n",
        "if expense_amount in expenses:\n",
        "    month = expenses[expense_amount]\n",
        "    print(f\"The expense of {expense_amount} occurred in {month}.\")\n",
        "else:\n",
        "    print(\"Expense not found.\")"
      ],
      "metadata": {
        "colab": {
          "base_uri": "https://localhost:8080/"
        },
        "id": "yCUUxzYZT4mA",
        "outputId": "971b81ef-4245-41f7-8777-a90fb54dd7be"
      },
      "execution_count": 3,
      "outputs": [
        {
          "output_type": "stream",
          "name": "stdout",
          "text": [
            "Enter an expense amount: 2200\n",
            "The expense of 2200 occurred in January.\n"
          ]
        }
      ]
    },
    {
      "cell_type": "markdown",
      "source": [
        "4.Lets say you are running a 5 km race. Write a program that,\n",
        "\n",
        "Upon completing each 1 km asks you \"are you tired?\"\n",
        "If you reply \"yes\" then it should break and print \"you didn't finish the race\"\n",
        "If you reply \"no\" then it should continue and ask \"are you tired\" on every km\n",
        "If you finish all 5 km then it should print congratulations message"
      ],
      "metadata": {
        "id": "hhjbzDhGURf-"
      }
    },
    {
      "cell_type": "code",
      "source": [
        "distance_run = 0\n",
        "\n",
        "while distance_run < 5:\n",
        "\n",
        "    response = input(f\"Are you tired after running {distance_run} km? (yes/no): \").lower()\n",
        "\n",
        "    if response == \"yes\":\n",
        "        print(\"You didn't finish the race.\")\n",
        "        break\n",
        "    elif response == \"no\":\n",
        "\n",
        "        distance_run += 1\n",
        "    else:\n",
        "        print(\"Invalid response. Please answer 'yes' or 'no'.\")\n",
        "\n",
        "if distance_run == 5:\n",
        "    print(\"Congratulations! You finished the race.\")"
      ],
      "metadata": {
        "colab": {
          "base_uri": "https://localhost:8080/"
        },
        "id": "GgkjNp3zUUKp",
        "outputId": "30572aa0-aa8f-46e2-c773-26755a044155"
      },
      "execution_count": 4,
      "outputs": [
        {
          "output_type": "stream",
          "name": "stdout",
          "text": [
            "Are you tired after running 0 km? (yes/no): 7\n",
            "Invalid response. Please answer 'yes' or 'no'.\n",
            "Are you tired after running 0 km? (yes/no): 6\n",
            "Invalid response. Please answer 'yes' or 'no'.\n",
            "Are you tired after running 0 km? (yes/no): yes\n",
            "You didn't finish the race.\n"
          ]
        }
      ]
    },
    {
      "cell_type": "markdown",
      "source": [
        "5.Write a program that prints following shape"
      ],
      "metadata": {
        "id": "fLHG1tM9U1pF"
      }
    },
    {
      "cell_type": "code",
      "source": [
        "for i in range(1, 6):\n",
        "    print('*' * i)"
      ],
      "metadata": {
        "colab": {
          "base_uri": "https://localhost:8080/"
        },
        "id": "0vDozAWUU1Uw",
        "outputId": "50782f9c-7f5b-4f76-e949-04ce4098d440"
      },
      "execution_count": 5,
      "outputs": [
        {
          "output_type": "stream",
          "name": "stdout",
          "text": [
            "*\n",
            "**\n",
            "***\n",
            "****\n",
            "*****\n"
          ]
        }
      ]
    }
  ]
}