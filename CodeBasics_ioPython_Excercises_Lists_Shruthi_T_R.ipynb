{
  "nbformat": 4,
  "nbformat_minor": 0,
  "metadata": {
    "colab": {
      "provenance": [],
      "authorship_tag": "ABX9TyPk59v6YICRqQk4QN6TCfAx",
      "include_colab_link": true
    },
    "kernelspec": {
      "name": "python3",
      "display_name": "Python 3"
    },
    "language_info": {
      "name": "python"
    }
  },
  "cells": [
    {
      "cell_type": "markdown",
      "metadata": {
        "id": "view-in-github",
        "colab_type": "text"
      },
      "source": [
        "<a href=\"https://colab.research.google.com/github/ShruthiRamesh02/Python/blob/main/CodeBasics_ioPython_Excercises_Lists_Shruthi_T_R.ipynb\" target=\"_parent\"><img src=\"https://colab.research.google.com/assets/colab-badge.svg\" alt=\"Open In Colab\"/></a>"
      ]
    },
    {
      "cell_type": "markdown",
      "source": [
        "1.Let us say your expense for every month are listed below,\n",
        "January - 2200\n",
        "February - 2350\n",
        "March - 2600\n",
        "April - 2130\n",
        "May - 2190\n",
        "Create a list to store these monthly expenses and using that find out,"
      ],
      "metadata": {
        "id": "LWe0wqAYNWcz"
      }
    },
    {
      "cell_type": "code",
      "source": [
        "expenses = [2200, 2350, 2600, 2130, 2190]\n",
        "\n",
        "first_quarter_total = sum(expenses[:3])\n",
        "\n",
        "total_expenses = sum(expenses)\n",
        "\n",
        "months_above_2300 = [month for month, expense in enumerate(expenses, start=1) if expense > 2300]\n",
        "\n",
        "spent_2000 = any(expense == 2000 for expense in expenses)\n",
        "\n",
        "print(f\"1. Total expenses for the first quarter: {first_quarter_total}\")\n",
        "print(f\"2. Total expenses for all months: {total_expenses}\")\n",
        "print(f\"3. Months with expenses greater than 2300: {months_above_2300}\")\n",
        "print(f\"4. Did you spend exactly 2000 in any month? {'Yes' if spent_2000 else 'No'}\")\n"
      ],
      "metadata": {
        "colab": {
          "base_uri": "https://localhost:8080/"
        },
        "id": "T5AX9f2bNbaX",
        "outputId": "3dbb5fda-b571-43f1-9ab1-320b604f9c30"
      },
      "execution_count": 4,
      "outputs": [
        {
          "output_type": "stream",
          "name": "stdout",
          "text": [
            "1. Total expenses for the first quarter: 7150\n",
            "2. Total expenses for all months: 11470\n",
            "3. Months with expenses greater than 2300: [2, 3]\n",
            "4. Did you spend exactly 2000 in any month? No\n"
          ]
        }
      ]
    },
    {
      "cell_type": "markdown",
      "source": [
        "2.You have a list of your favourite marvel super heros."
      ],
      "metadata": {
        "id": "1pbr6mOROUEx"
      }
    },
    {
      "cell_type": "code",
      "source": [
        "favorite_marvel_superheroes = [\"Spider-Man\", \"Iron Man\", \"Black Panther\", \"Thor\", \"Captain America\"]\n",
        "print(favorite_marvel_superheroes)"
      ],
      "metadata": {
        "colab": {
          "base_uri": "https://localhost:8080/"
        },
        "id": "xS-OBWEeOaxq",
        "outputId": "a0ab1f31-cb17-480d-a447-3d277123d509"
      },
      "execution_count": 5,
      "outputs": [
        {
          "output_type": "stream",
          "name": "stdout",
          "text": [
            "['Spider-Man', 'Iron Man', 'Black Panther', 'Thor', 'Captain America']\n"
          ]
        }
      ]
    }
  ]
}