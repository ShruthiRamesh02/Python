{
  "nbformat": 4,
  "nbformat_minor": 0,
  "metadata": {
    "colab": {
      "provenance": [],
      "authorship_tag": "ABX9TyMTt5h0/KSFrbEL2v0Umg0v",
      "include_colab_link": true
    },
    "kernelspec": {
      "name": "python3",
      "display_name": "Python 3"
    },
    "language_info": {
      "name": "python"
    }
  },
  "cells": [
    {
      "cell_type": "markdown",
      "metadata": {
        "id": "view-in-github",
        "colab_type": "text"
      },
      "source": [
        "<a href=\"https://colab.research.google.com/github/ShruthiRamesh02/Python/blob/main/CodeBasics_ioPython_Excercises_Numbers_Shruthi_T_R.ipynb\" target=\"_parent\"><img src=\"https://colab.research.google.com/assets/colab-badge.svg\" alt=\"Open In Colab\"/></a>"
      ]
    },
    {
      "cell_type": "markdown",
      "source": [
        "1.You have a football field that is 92 meter long and 48.8 meter wide. Find out total area using python and print it."
      ],
      "metadata": {
        "id": "Pi1sFH2tliXj"
      }
    },
    {
      "cell_type": "code",
      "source": [
        "length = 92.0\n",
        "width = 48.8\n",
        "\n",
        "total_area = length * width\n",
        "\n",
        "print(\"The total area of the football field is\", total_area, \"square meters\")"
      ],
      "metadata": {
        "colab": {
          "base_uri": "https://localhost:8080/"
        },
        "id": "_uIzUP-nllUA",
        "outputId": "3394999e-12c5-4753-a85e-c303d9c7cea1"
      },
      "execution_count": 2,
      "outputs": [
        {
          "output_type": "stream",
          "name": "stdout",
          "text": [
            "The total area of the football field is 4489.599999999999 square meters\n"
          ]
        }
      ]
    },
    {
      "cell_type": "markdown",
      "source": [
        "2.You bought 9 packets of potato chips from a store. Each packet costs 1.49 dollar and you gave shopkeeper 20 dollar. Find out using python, how many dollars is the shopkeeper going to give you back?"
      ],
      "metadata": {
        "id": "wqnSgAczl6aW"
      }
    },
    {
      "cell_type": "code",
      "source": [
        "cost_per_packet = 1.49\n",
        "packets_bought = 9\n",
        "\n",
        "total_cost = cost_per_packet * packets_bought\n",
        "\n",
        "amount_given = 20.0\n",
        "\n",
        "change = amount_given - total_cost\n",
        "\n",
        "print(\"The shopkeeper will give you back\", change, \"dollars\")"
      ],
      "metadata": {
        "colab": {
          "base_uri": "https://localhost:8080/"
        },
        "id": "HLkqAvlWl_t4",
        "outputId": "4e632045-d40d-4e0b-dfc8-45993d3dbece"
      },
      "execution_count": 3,
      "outputs": [
        {
          "output_type": "stream",
          "name": "stdout",
          "text": [
            "The shopkeeper will give you back 6.59 dollars\n"
          ]
        }
      ]
    },
    {
      "cell_type": "markdown",
      "source": [
        "3.You want to replace tiles in your bathroom which is exactly square and 5.5 feet is its length. If tiles cost 500 rs per square feet, how much will be the total cost to replace all tiles. Calculate and print the cost using python (Hint: Use power operator ** to find area of a square)"
      ],
      "metadata": {
        "id": "vkSKalLfmlfN"
      }
    },
    {
      "cell_type": "code",
      "source": [
        "side_length = 5.5\n",
        "\n",
        "area = side_length ** 2\n",
        "\n",
        "cost_per_square_foot = 500\n",
        "\n",
        "total_cost = area * cost_per_square_foot\n",
        "\n",
        "print(\"The total cost to replace all the tiles is\", total_cost, \"rupees\")"
      ],
      "metadata": {
        "colab": {
          "base_uri": "https://localhost:8080/"
        },
        "id": "wa62we2nmqpW",
        "outputId": "fc24eb52-7a72-4fe1-fc6e-d6e34e03fa2a"
      },
      "execution_count": 4,
      "outputs": [
        {
          "output_type": "stream",
          "name": "stdout",
          "text": [
            "The total cost to replace all the tiles is 15125.0 rupees\n"
          ]
        }
      ]
    },
    {
      "cell_type": "markdown",
      "source": [
        "4.Print binary representation of number 17"
      ],
      "metadata": {
        "id": "1N6HdibLm7QE"
      }
    },
    {
      "cell_type": "code",
      "source": [
        "\"10001.\""
      ],
      "metadata": {
        "colab": {
          "base_uri": "https://localhost:8080/",
          "height": 36
        },
        "id": "bfJi91HzKoi3",
        "outputId": "d707719b-6246-4b3d-8fad-9b92f1d10002"
      },
      "execution_count": 1,
      "outputs": [
        {
          "output_type": "execute_result",
          "data": {
            "text/plain": [
              "'10001.'"
            ],
            "application/vnd.google.colaboratory.intrinsic+json": {
              "type": "string"
            }
          },
          "metadata": {},
          "execution_count": 1
        }
      ]
    },
    {
      "cell_type": "code",
      "source": [],
      "metadata": {
        "id": "CTGM0ZhtnBJa"
      },
      "execution_count": null,
      "outputs": []
    }
  ]
}