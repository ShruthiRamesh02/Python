{
  "nbformat": 4,
  "nbformat_minor": 0,
  "metadata": {
    "colab": {
      "provenance": [],
      "authorship_tag": "ABX9TyNyhJ35xeBaLF/Y+DiTMmO2",
      "include_colab_link": true
    },
    "kernelspec": {
      "name": "python3",
      "display_name": "Python 3"
    },
    "language_info": {
      "name": "python"
    }
  },
  "cells": [
    {
      "cell_type": "markdown",
      "metadata": {
        "id": "view-in-github",
        "colab_type": "text"
      },
      "source": [
        "<a href=\"https://colab.research.google.com/github/ShruthiRamesh02/Python/blob/main/CodeBasics_ioPython_Excercises_If_Statement_Shruthi_T_R.ipynb\" target=\"_parent\"><img src=\"https://colab.research.google.com/assets/colab-badge.svg\" alt=\"Open In Colab\"/></a>"
      ]
    },
    {
      "cell_type": "markdown",
      "source": [
        "1.Using following list of cities per country,\n",
        "india = [\"mumbai\", \"banglore\", \"chennai\", \"delhi\"]\n",
        "pakistan = [\"lahore\",\"karachi\",\"islamabad\"]\n",
        "bangladesh = [\"dhaka\", \"khulna\", \"rangpur\"]\n",
        "Write a program that asks user to enter a city name and it should tell which country the city belongs to\n",
        "Write a program that asks user to enter two cities and it tells you if they both are in same country or not. For example if I enter mumbai and chennai, it will print \"Both cities are in India\" but if I enter mumbai and dhaka it should print \"They don't belong to same country\""
      ],
      "metadata": {
        "id": "DhdHYDeuPcm1"
      }
    },
    {
      "cell_type": "code",
      "execution_count": 1,
      "metadata": {
        "colab": {
          "base_uri": "https://localhost:8080/"
        },
        "id": "5NA8X6V5PWbr",
        "outputId": "5a08483c-ffdb-4360-8e08-a6702d173bd0"
      },
      "outputs": [
        {
          "output_type": "stream",
          "name": "stdout",
          "text": [
            "Enter the first city: mumbai\n",
            "Enter the second city: delhi\n",
            "Both cities are in India\n"
          ]
        }
      ],
      "source": [
        "city_to_country = {\n",
        "    \"mumbai\": \"India\",\n",
        "    \"banglore\": \"India\",\n",
        "    \"chennai\": \"India\",\n",
        "    \"delhi\": \"India\",\n",
        "    \"lahore\": \"Pakistan\",\n",
        "    \"karachi\": \"Pakistan\",\n",
        "    \"islamabad\": \"Pakistan\",\n",
        "    \"dhaka\": \"Bangladesh\",\n",
        "    \"khulna\": \"Bangladesh\",\n",
        "    \"rangpur\": \"Bangladesh\",\n",
        "}\n",
        "\n",
        "def find_country(city):\n",
        "    return city_to_country.get(city.lower(), \"Unknown\")\n",
        "\n",
        "def are_cities_in_same_country(city1, city2):\n",
        "    country1 = find_country(city1)\n",
        "    country2 = find_country(city2)\n",
        "\n",
        "    if country1 == country2:\n",
        "        return f\"Both cities are in {country1}\"\n",
        "    else:\n",
        "        return \"They don't belong to the same country\"\n",
        "\n",
        "city1 = input(\"Enter the first city: \")\n",
        "city2 = input(\"Enter the second city: \")\n",
        "\n",
        "result = are_cities_in_same_country(city1, city2)\n",
        "print(result)\n"
      ]
    },
    {
      "cell_type": "markdown",
      "source": [
        "2.Write a python program that can tell you if your sugar is normal or not. Normal fasting level sugar range is 80 to 100.\n",
        "Ask user to enter his fasting sugar level\n",
        "If it is below 80 to 100 range then print that sugar is low\n",
        "If it is above 100 then print that it is high otherwise print that it is normal"
      ],
      "metadata": {
        "id": "PJWcfS14QKtN"
      }
    },
    {
      "cell_type": "code",
      "source": [
        "fasting_sugar_level = float(input(\"Enter your fasting sugar level: \"))\n",
        "\n",
        "if 80 <= fasting_sugar_level <= 100:\n",
        "    print(\"Your sugar level is normal.\")\n",
        "elif fasting_sugar_level < 80:\n",
        "    print(\"Your sugar level is low.\")\n",
        "else:\n",
        "    print(\"Your sugar level is high.\")"
      ],
      "metadata": {
        "colab": {
          "base_uri": "https://localhost:8080/"
        },
        "id": "_B1h9adlPbVN",
        "outputId": "29ae58eb-abc6-495e-84c1-9b4f79dfce27"
      },
      "execution_count": 4,
      "outputs": [
        {
          "output_type": "stream",
          "name": "stdout",
          "text": [
            "Enter your fasting sugar level: 100\n",
            "Your sugar level is normal.\n"
          ]
        }
      ]
    }
  ]
}