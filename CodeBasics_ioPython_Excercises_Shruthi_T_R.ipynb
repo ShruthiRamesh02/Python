{
  "nbformat": 4,
  "nbformat_minor": 0,
  "metadata": {
    "colab": {
      "provenance": [],
      "authorship_tag": "ABX9TyP+KruoRsFYCoLKJN0BNoVm",
      "include_colab_link": true
    },
    "kernelspec": {
      "name": "python3",
      "display_name": "Python 3"
    },
    "language_info": {
      "name": "python"
    }
  },
  "cells": [
    {
      "cell_type": "markdown",
      "metadata": {
        "id": "view-in-github",
        "colab_type": "text"
      },
      "source": [
        "<a href=\"https://colab.research.google.com/github/ShruthiRamesh02/Python/blob/main/CodeBasics_ioPython_Excercises_Shruthi_T_R.ipynb\" target=\"_parent\"><img src=\"https://colab.research.google.com/assets/colab-badge.svg\" alt=\"Open In Colab\"/></a>"
      ]
    },
    {
      "cell_type": "markdown",
      "source": [
        "Python _Variables_Excercise_CodeBasics.io"
      ],
      "metadata": {
        "id": "vWoBNYczunGO"
      }
    },
    {
      "cell_type": "markdown",
      "source": [
        "1.Create a variable called break and assign it a value 5. See what happens and find out the reason behind the behavior that you see."
      ],
      "metadata": {
        "id": "yuM-PKGEuYHF"
      }
    },
    {
      "cell_type": "markdown",
      "source": [
        "Ans:In Python we cannot use Break function as it gives Error message"
      ],
      "metadata": {
        "id": "Q7Fxm2vvucMn"
      }
    },
    {
      "cell_type": "markdown",
      "source": [
        "2.Create two variables. One to store your birth year and another one to store current year. Now calculate your age using these two variables"
      ],
      "metadata": {
        "id": "9znW4zRzu5fq"
      }
    },
    {
      "cell_type": "code",
      "source": [
        "import datetime\n",
        "\n",
        "# Input your birth year\n",
        "birth_year = int(input(\"Enter your birth year: \"))\n",
        "\n",
        "# Get the current year\n",
        "current_year = datetime.date.today().year\n",
        "\n",
        "# Calculate your age\n",
        "age = current_year - birth_year\n",
        "\n",
        "# Print the result\n",
        "print(f\"Your age is {age} years.\")"
      ],
      "metadata": {
        "colab": {
          "base_uri": "https://localhost:8080/"
        },
        "id": "f-eWruOGubvs",
        "outputId": "c27e11ad-0d65-4c4a-8f1b-2828b3fc0408"
      },
      "execution_count": 1,
      "outputs": [
        {
          "output_type": "stream",
          "name": "stdout",
          "text": [
            "Enter your birth year: 1990\n",
            "Your age is 33 years.\n"
          ]
        }
      ]
    },
    {
      "cell_type": "markdown",
      "source": [
        "3.Store your first, middle and last name in three different variables and then print your full name using these variables\n",
        "\n"
      ],
      "metadata": {
        "id": "kinCHJAPh1RN"
      }
    },
    {
      "cell_type": "code",
      "source": [
        "first_name = \"Shruthi\"\n",
        "middle_name = \"Tatanahalli\"\n",
        "last_name = \"Rameshan\"\n",
        "\n",
        "full_name = f\"{first_name} {middle_name} {last_name}\"\n",
        "\n",
        "print(\"My full name is:\", full_name)"
      ],
      "metadata": {
        "colab": {
          "base_uri": "https://localhost:8080/"
        },
        "id": "tFe_befPh9Wv",
        "outputId": "81f4f4f7-0ff3-49b2-f9fa-2a43fe0c59b2"
      },
      "execution_count": 2,
      "outputs": [
        {
          "output_type": "stream",
          "name": "stdout",
          "text": [
            "My full name is: Shruthi Tatanahalli Rameshan\n"
          ]
        }
      ]
    },
    {
      "cell_type": "markdown",
      "source": [
        "4.Answer which of these are invalid variable names: _nation 1record record1 record_one record-one record^one continue"
      ],
      "metadata": {
        "id": "tftQ67JiiZw0"
      }
    },
    {
      "cell_type": "markdown",
      "source": [
        "1record, record-one, and record^one."
      ],
      "metadata": {
        "id": "HCD13tfHizhK"
      }
    },
    {
      "cell_type": "code",
      "source": [],
      "metadata": {
        "id": "kGcR1Q_Qinq7"
      },
      "execution_count": null,
      "outputs": []
    }
  ]
}