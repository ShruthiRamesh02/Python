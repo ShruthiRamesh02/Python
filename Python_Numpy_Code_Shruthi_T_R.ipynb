{
  "nbformat": 4,
  "nbformat_minor": 0,
  "metadata": {
    "colab": {
      "provenance": [],
      "authorship_tag": "ABX9TyP/RjRFXZxZZ94voXFZCScM",
      "include_colab_link": true
    },
    "kernelspec": {
      "name": "python3",
      "display_name": "Python 3"
    },
    "language_info": {
      "name": "python"
    }
  },
  "cells": [
    {
      "cell_type": "markdown",
      "metadata": {
        "id": "view-in-github",
        "colab_type": "text"
      },
      "source": [
        "<a href=\"https://colab.research.google.com/github/ShruthiRamesh02/Python/blob/main/Python_Numpy_Code_Shruthi_T_R.ipynb\" target=\"_parent\"><img src=\"https://colab.research.google.com/assets/colab-badge.svg\" alt=\"Open In Colab\"/></a>"
      ]
    },
    {
      "cell_type": "markdown",
      "source": [
        "Question 1\n",
        "Write a NumPy program to create a 8x8 matrix and fill it with a checkerboard pattern."
      ],
      "metadata": {
        "id": "hZg603nxzA8m"
      }
    },
    {
      "cell_type": "code",
      "source": [
        "import numpy as np\n",
        "\n",
        "# Create an 8x8 matrix filled with zeros\n",
        "matrix = np.zeros((8, 8), dtype=int)\n",
        "\n",
        "# Set even-indexed rows and columns to 1\n",
        "matrix[::2, ::2] = 1\n",
        "matrix[1::2, 1::2] = 1\n",
        "\n",
        "print(matrix)"
      ],
      "metadata": {
        "colab": {
          "base_uri": "https://localhost:8080/"
        },
        "id": "HTnecBaCzCV5",
        "outputId": "06b996a0-6a62-48ab-abdd-9ab389f1dcfd"
      },
      "execution_count": 1,
      "outputs": [
        {
          "output_type": "stream",
          "name": "stdout",
          "text": [
            "[[1 0 1 0 1 0 1 0]\n",
            " [0 1 0 1 0 1 0 1]\n",
            " [1 0 1 0 1 0 1 0]\n",
            " [0 1 0 1 0 1 0 1]\n",
            " [1 0 1 0 1 0 1 0]\n",
            " [0 1 0 1 0 1 0 1]\n",
            " [1 0 1 0 1 0 1 0]\n",
            " [0 1 0 1 0 1 0 1]]\n"
          ]
        }
      ]
    },
    {
      "cell_type": "markdown",
      "source": [
        "Question 2\n",
        "Create a 2d array of 8*8 matrix with 1 on the border and 0 inside"
      ],
      "metadata": {
        "id": "H5RsNt-rzPOM"
      }
    },
    {
      "cell_type": "code",
      "source": [
        "import numpy as np\n",
        "\n",
        "# Create an 8x8 matrix filled with ones\n",
        "matrix = np.ones((8, 8), dtype=int)\n",
        "\n",
        "# Set the inner elements to 0\n",
        "matrix[1:-1, 1:-1] = 0\n",
        "\n",
        "print(matrix)"
      ],
      "metadata": {
        "colab": {
          "base_uri": "https://localhost:8080/"
        },
        "id": "6xmCnr5yzbPI",
        "outputId": "f8f38c1d-ead3-474b-8a5f-58c8305130bb"
      },
      "execution_count": 1,
      "outputs": [
        {
          "output_type": "stream",
          "name": "stdout",
          "text": [
            "[[1 1 1 1 1 1 1 1]\n",
            " [1 0 0 0 0 0 0 1]\n",
            " [1 0 0 0 0 0 0 1]\n",
            " [1 0 0 0 0 0 0 1]\n",
            " [1 0 0 0 0 0 0 1]\n",
            " [1 0 0 0 0 0 0 1]\n",
            " [1 0 0 0 0 0 0 1]\n",
            " [1 1 1 1 1 1 1 1]]\n"
          ]
        }
      ]
    },
    {
      "cell_type": "markdown",
      "source": [
        "Question 3\n",
        "Create a 3x3 matrix with values ranging from 0 to 8"
      ],
      "metadata": {
        "id": "xDwr-JnOAGsf"
      }
    },
    {
      "cell_type": "code",
      "source": [
        "import numpy as np\n",
        "\n",
        "# Create an array with values ranging from 0 to 8\n",
        "arr = np.arange(9)\n",
        "\n",
        "# Reshape the array to a 3x3 matrix\n",
        "matrix = arr.reshape(3, 3)\n",
        "\n",
        "print(matrix)"
      ],
      "metadata": {
        "colab": {
          "base_uri": "https://localhost:8080/"
        },
        "id": "Sa2Wcq0jALrN",
        "outputId": "841715e6-2dbd-44e8-9ce7-95053532943c"
      },
      "execution_count": 2,
      "outputs": [
        {
          "output_type": "stream",
          "name": "stdout",
          "text": [
            "[[0 1 2]\n",
            " [3 4 5]\n",
            " [6 7 8]]\n"
          ]
        }
      ]
    },
    {
      "cell_type": "markdown",
      "source": [
        "Question 4\n",
        "Create a vector with values ranging from 10 to 49 and then reverse the vector."
      ],
      "metadata": {
        "id": "gApSXg_yAcif"
      }
    },
    {
      "cell_type": "code",
      "source": [
        "import numpy as np\n",
        "\n",
        "# Create a vector with values ranging from 10 to 49\n",
        "vector = np.arange(10, 50)\n",
        "\n",
        "# Reverse the vector\n",
        "reversed_vector = vector[::-1]\n",
        "\n",
        "print(reversed_vector)"
      ],
      "metadata": {
        "colab": {
          "base_uri": "https://localhost:8080/"
        },
        "id": "ymc5mv52Ait1",
        "outputId": "22b3365f-6047-4c59-9428-11d3e921262b"
      },
      "execution_count": 3,
      "outputs": [
        {
          "output_type": "stream",
          "name": "stdout",
          "text": [
            "[49 48 47 46 45 44 43 42 41 40 39 38 37 36 35 34 33 32 31 30 29 28 27 26\n",
            " 25 24 23 22 21 20 19 18 17 16 15 14 13 12 11 10]\n"
          ]
        }
      ]
    },
    {
      "cell_type": "markdown",
      "source": [
        "Question 5\n",
        "Find indices of non-zero elements from the numpy array - [1,2,0,0,4,0]"
      ],
      "metadata": {
        "id": "37fjj6p1AynT"
      }
    },
    {
      "cell_type": "code",
      "source": [
        "import numpy as np\n",
        "\n",
        "arr = np.array([1, 2, 0, 0, 4, 0])\n",
        "\n",
        "# Find the indices of non-zero elements\n",
        "indices = np.nonzero(arr)\n",
        "\n",
        "print(indices)"
      ],
      "metadata": {
        "colab": {
          "base_uri": "https://localhost:8080/"
        },
        "id": "JwXE1vARA4Zl",
        "outputId": "3aa94169-6f6e-4865-8de6-be1d7e4a4193"
      },
      "execution_count": 4,
      "outputs": [
        {
          "output_type": "stream",
          "name": "stdout",
          "text": [
            "(array([0, 1, 4]),)\n"
          ]
        }
      ]
    },
    {
      "cell_type": "markdown",
      "source": [
        "Question 6\n",
        "Wrire a recursive function that generates Fibonacci sequence of n numbers. For example, first 10 (n = 10) numbers in the sequence are 0, 1, 1, 2, 3, 5, 8, 13, 21, 34"
      ],
      "metadata": {
        "id": "J3inRHsmBN3_"
      }
    },
    {
      "cell_type": "code",
      "source": [
        "def fibonacci_recursive(n):\n",
        "    if n <= 0:\n",
        "        return []\n",
        "    elif n == 1:\n",
        "        return [0]\n",
        "    elif n == 2:\n",
        "        return [0, 1]\n",
        "    else:\n",
        "        fib_list = fibonacci_recursive(n - 1)\n",
        "        fib_list.append(fib_list[-1] + fib_list[-2])\n",
        "        return fib_list\n",
        "\n",
        "# Example usage for the first 10 Fibonacci numbers\n",
        "n = 10\n",
        "fib_sequence = fibonacci_recursive(n)\n",
        "print(' '.join(map(str, fib_sequence)))"
      ],
      "metadata": {
        "colab": {
          "base_uri": "https://localhost:8080/"
        },
        "id": "dZRjWL-hBTCk",
        "outputId": "8ad1f714-3650-43e2-892f-e490767a8cf2"
      },
      "execution_count": 5,
      "outputs": [
        {
          "output_type": "stream",
          "name": "stdout",
          "text": [
            "0 1 1 2 3 5 8 13 21 34\n"
          ]
        }
      ]
    },
    {
      "cell_type": "markdown",
      "source": [
        "Question 7\n",
        "Check whether a number is even or odd using lambda function"
      ],
      "metadata": {
        "id": "lqg3uVUdBiUs"
      }
    },
    {
      "cell_type": "code",
      "source": [
        "number = 5\n",
        "\n",
        "check_even_odd = lambda x: \"Even number\" if x % 2 == 0 else \"Odd number\"\n",
        "result = check_even_odd(number)\n",
        "\n",
        "print(result)  # Output: Odd number"
      ],
      "metadata": {
        "colab": {
          "base_uri": "https://localhost:8080/"
        },
        "id": "rdtsX1jyBnaA",
        "outputId": "17611e14-0616-48af-92d3-2ece52c2b7d7"
      },
      "execution_count": 6,
      "outputs": [
        {
          "output_type": "stream",
          "name": "stdout",
          "text": [
            "Odd number\n"
          ]
        }
      ]
    }
  ]
}